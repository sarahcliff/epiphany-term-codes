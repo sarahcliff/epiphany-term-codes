{
 "cells": [
  {
   "cell_type": "code",
   "execution_count": 4,
   "id": "49dd59c7",
   "metadata": {},
   "outputs": [],
   "source": [
    "import numpy as np\n",
    "import pandas as pd\n",
    "from datetime import datetime\n",
    "import scipy"
   ]
  },
  {
   "cell_type": "code",
   "execution_count": 5,
   "id": "afb27282",
   "metadata": {},
   "outputs": [],
   "source": [
    "#string to datetime function imported from MODIS data workbook\n",
    "\n",
    "def to_datetime(dt):\n",
    "    datetimevec= []\n",
    "    for i in range (0,len(dt)):\n",
    "        if isinstance(dt[i], str) == True:\n",
    "            datetime_object = datetime.strptime(dt[i],'%d/%m/%Y %H:%M')\n",
    "            #print(datetime_object)\n",
    "            str_time = datetime_object.strftime('%d/%m/%Y' )\n",
    "            datetimevec.append(str_time)\n",
    "    return datetimevec\n",
    "\n",
    "def to_date(dt):\n",
    "    datetimevec= []\n",
    "    for i in range (0,len(dt)):\n",
    "        if isinstance(dt[i], str) == True:\n",
    "            datetime_object = datetime.strptime(dt[i],'%Y-%m-%d')\n",
    "            #str_time = datetime.strftime(datetime_object, '%d/%m/%Y' )\n",
    "            datetimevec.append(datetime_object)\n",
    "    return datetimevec\n",
    "\n",
    "def pad(data):\n",
    "    bad_indexes = np.isnan(data)\n",
    "    good_indexes = np.logical_not(bad_indexes)\n",
    "    good_data = data[good_indexes]\n",
    "    interpolated = np.interp(bad_indexes.nonzero()[0], good_indexes.nonzero()[0], good_data)\n",
    "    data[bad_indexes] = interpolated\n",
    "    return data\n",
    "\n",
    "def uniq(data, time):\n",
    "    new_data = []\n",
    "    new_date = []\n",
    "    for i in range(0, len(time)):\n",
    "        if time[i] not in new_date:\n",
    "            new_date.append(time[i])\n",
    "            new_data.append(data[i])\n",
    "    return(new_data, new_date)\n",
    "    "
   ]
  },
  {
   "cell_type": "code",
   "execution_count": 24,
   "id": "5329d6ca",
   "metadata": {},
   "outputs": [],
   "source": [
    "df = pd.read_csv('/Users/sarahcliff/Desktop/hydrology data/raw data/ombh2MODIS2021-12-02.csv')\n",
    "data = np.array(df['Depth'])\n",
    "time = to_datetime(df['date'])"
   ]
  },
  {
   "cell_type": "code",
   "execution_count": 25,
   "id": "3e186ed5",
   "metadata": {},
   "outputs": [],
   "source": [
    "new_data, new_time = uniq(data,time)\n",
    "new_data = pad(np.array(new_data))\n",
    "new_time = np.array(new_time)"
   ]
  },
  {
   "cell_type": "code",
   "execution_count": 26,
   "id": "bf7e4481",
   "metadata": {},
   "outputs": [],
   "source": [
    "data = {'date': new_data, 'Depth': new_time}  \n",
    "df_data = pd.DataFrame(data)\n",
    "#creating filename\n",
    "filename='ombh2'+ str(datetime.now().strftime(\"%Y-%m-%d\"))+'.csv'\n",
    "df_data.to_csv(filename)"
   ]
  },
  {
   "cell_type": "code",
   "execution_count": null,
   "id": "8f141aac",
   "metadata": {},
   "outputs": [],
   "source": [
    "#tacking on new datasets"
   ]
  }
 ],
 "metadata": {
  "kernelspec": {
   "display_name": "Python 3",
   "language": "python",
   "name": "python3"
  },
  "language_info": {
   "codemirror_mode": {
    "name": "ipython",
    "version": 3
   },
   "file_extension": ".py",
   "mimetype": "text/x-python",
   "name": "python",
   "nbconvert_exporter": "python",
   "pygments_lexer": "ipython3",
   "version": "3.8.8"
  }
 },
 "nbformat": 4,
 "nbformat_minor": 5
}

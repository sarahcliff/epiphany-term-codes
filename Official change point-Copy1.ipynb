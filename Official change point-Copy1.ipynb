{
 "cells": [
  {
   "cell_type": "code",
   "execution_count": 1,
   "id": "759c045a",
   "metadata": {},
   "outputs": [],
   "source": [
    "import pandas as pd\n",
    "import numpy as np\n",
    "import matplotlib.pyplot as plt\n",
    "from datetime import datetime\n",
    "from functools import reduce\n",
    "from matplotlib import dates as mpl_dates"
   ]
  },
  {
   "cell_type": "code",
   "execution_count": 2,
   "id": "e5a19c51",
   "metadata": {},
   "outputs": [],
   "source": [
    "def to_datetime(dt):\n",
    "    datetimevec= []\n",
    "    for i in range (0,len(dt)):\n",
    "        if isinstance(dt[i], str) == True:\n",
    "            datetime_object = datetime.strptime(dt[i],'%Y-%m-%d %H:%M:%S')\n",
    "            #print(datetime_object)\n",
    "            str_time = datetime_object.strftime('%d/%m/%Y' )\n",
    "            datetimevec.append(str_time)\n",
    "    return datetimevec\n",
    "\n",
    "def to_date(dt):\n",
    "    datetimevec= []\n",
    "    for i in range (0,len(dt)):\n",
    "        if isinstance(dt[i], str) == True:\n",
    "            datetime_object = datetime.strptime(dt[i],'%Y-%m-%d')\n",
    "            str_time = datetime_object.strftime('%d/%m/%Y' )\n",
    "            datetimevec.append(str_time)\n",
    "    return datetimevec\n",
    "\n",
    "def to_date1(dt):\n",
    "    datetimevec= []\n",
    "    for i in range(0, len(dt)):\n",
    "        datetime_object = datetime.strptime(dt[i],'%d/%m/%Y')\n",
    "        datetimevec.append(datetime_object)\n",
    "    return datetimevec"
   ]
  },
  {
   "cell_type": "code",
   "execution_count": 12,
   "id": "4bbbb1b1",
   "metadata": {},
   "outputs": [
    {
     "name": "stdout",
     "output_type": "stream",
     "text": [
      "0   2012-02-07\n",
      "1   2012-02-08\n",
      "2   2012-02-09\n",
      "3   2012-02-10\n",
      "4   2012-02-11\n",
      "Name: Date, dtype: datetime64[ns] 0   2011-09-14\n",
      "1   2011-09-15\n",
      "2   2011-09-16\n",
      "3   2011-09-17\n",
      "4   2011-09-18\n",
      "Name: Date, dtype: datetime64[ns]\n",
      "            Date        Data\n",
      "0     17/01/2009  278.740000\n",
      "1     18/01/2009  278.304000\n",
      "2     19/01/2009  277.868000\n",
      "3     20/01/2009  277.432000\n",
      "4     21/01/2009  276.996000\n",
      "...          ...         ...\n",
      "4061  25/03/2020  288.340000\n",
      "4062  27/03/2020  286.413333\n",
      "4063  28/03/2020  284.486667\n",
      "4064  29/03/2020  282.560000\n",
      "4065  31/03/2020  282.560000\n",
      "\n",
      "[4066 rows x 2 columns]\n"
     ]
    }
   ],
   "source": [
    "df1 = pd.read_csv('/Users/sarahcliff/Desktop/MODIS data/Raw MODIS/eviraw@2022-02-17.csv')\n",
    "data1 = np.array(df1['Data'])\n",
    "time1 = to_date(np.array(df1['Date']))\n",
    "df1 = pd.DataFrame({'Date': time1, 'Data': data1})\n",
    "\n",
    "df2 = pd.read_csv('/Users/sarahcliff/Desktop/MODIS data/Raw MODIS/lstraw@2022-02-17.csv')\n",
    "data2 = np.array(df2['Data'])\n",
    "time2 = to_date(np.array(df2['Date']))\n",
    "df2 = pd.DataFrame({'Date': time2, 'Data': data2})\n",
    "\n",
    "df3 = pd.read_csv('/Users/sarahcliff/Desktop/MODIS data/Raw MODIS/ndviraw@2022-02-17.csv')\n",
    "data3 = np.array(df3['Data'])\n",
    "time3 = to_date(np.array(df3['Date']))\n",
    "df3 = pd.DataFrame({'Date': time3, 'Data': data3})\n",
    "\n",
    "df4 = pd.read_csv('/Users/sarahcliff/Desktop/hydrology data/raw data/dbh2raw@2022-02-17.csv')\n",
    "data4 = np.array(df4['Data'])\n",
    "time4 = to_date1(np.array(df4['Date']))\n",
    "df4 = pd.DataFrame({'Date': time4, 'Data': data4})\n",
    "\n",
    "df5 = pd.read_csv('/Users/sarahcliff/Desktop/hydrology data/raw data/dbh6raw@2022-02-17.csv')\n",
    "data5 = np.array(df5['Data'])\n",
    "time5 = to_date1(np.array(df5['Date']))\n",
    "df5 = pd.DataFrame({'Date': time5, 'Data': data5})\n",
    "\n",
    "df6 = pd.read_csv('/Users/sarahcliff/Desktop/hydrology data/raw data/dbh8raw@2022-02-17.csv')\n",
    "data6 = np.array(df6['Data'])\n",
    "time6 = to_date1(np.array(df6['Date']))\n",
    "df6 = pd.DataFrame({'Date': time6, 'Data': data6})\n",
    "\n",
    "df7 = pd.read_csv('/Users/sarahcliff/Desktop/hydrology data/raw data/ds1raw@2022-02-17.csv')\n",
    "data7 = np.array(df7['Data'])\n",
    "time7 = to_date1(np.array(df7['Date']))\n",
    "df7 = pd.DataFrame({'Date': time7, 'Data': data7})\n",
    "\n",
    "df8 = pd.read_csv('/Users/sarahcliff/Desktop/hydrology data/raw data/ombh1raw@2022-02-17.csv')\n",
    "data8 = np.array(df8['Data'])\n",
    "time8 = to_date1(np.array(df8['Date']))\n",
    "df8 = pd.DataFrame({'Date': time8, 'Data': data8})\n",
    "\n",
    "df9 = pd.read_csv('/Users/sarahcliff/Desktop/hydrology data/raw data/ombh2raw@2022-02-17.csv')\n",
    "data9 = np.array(df9['Data'])\n",
    "time9 = to_date1(np.array(df9['Date']))\n",
    "df9 = pd.DataFrame({'Date': time9, 'Data': data9})\n",
    "\n",
    "\n",
    "\n",
    "\n",
    "list1 = [df1, df2, df3, df4, df5, df6, df7, df8, df9]\n",
    "list2 = list(['EVI','LST Day','NDVI','DBH2','DBH6','DBH8','DS1','OMBH1','OMBH2'])\n",
    "print(df9['Date'][0:5],df5['Date'][0:5])\n",
    "\n",
    "print(list1[1])"
   ]
  },
  {
   "cell_type": "code",
   "execution_count": 13,
   "id": "5aeb6a02",
   "metadata": {},
   "outputs": [],
   "source": [
    "#making sure each dataframe is the same length function\n",
    "\n",
    "#Getting union of two datasets\n",
    "\n",
    "def intersect(alist):\n",
    "    listvec = []\n",
    "    lengthlist = len(alist)\n",
    "    check_list = list(set(l['Date']) for l in alist)\n",
    "    #print(len(check_list))\n",
    "    result = set(check_list[0])\n",
    "    for s in check_list:\n",
    "        result = result.intersection(s)  \n",
    "    result = reduce(set.intersection, check_list)\n",
    "    date_int = list(result)\n",
    "    date_int.sort(key=lambda date: datetime.strptime(date, \"%d/%m/%Y\"))\n",
    "    largevec = []\n",
    "    for i in alist:\n",
    "        chopped_data = []\n",
    "        for j in date_int:\n",
    "            date_fix = list(i['Date'])\n",
    "            index = date_fix.index(j)\n",
    "            chopped_data.append(i['Data'][index])\n",
    "        largevec.append(chopped_data)\n",
    "    \n",
    "    \n",
    "    date_int = [(datetime.strptime(i,'%d/%m/%Y')) for i in date_int]\n",
    "    return largevec, date_int\n",
    "\n",
    "vec, date_int = intersect(list1)\n",
    "\n",
    "\n",
    "#find out how to break up list!!!"
   ]
  },
  {
   "cell_type": "code",
   "execution_count": 14,
   "id": "5374638c",
   "metadata": {},
   "outputs": [
    {
     "name": "stdout",
     "output_type": "stream",
     "text": [
      "[]\n"
     ]
    }
   ],
   "source": [
    "print(date_int)"
   ]
  },
  {
   "cell_type": "code",
   "execution_count": 7,
   "id": "8584ddc1",
   "metadata": {},
   "outputs": [
    {
     "ename": "BadSegmentationParameters",
     "evalue": "",
     "output_type": "error",
     "traceback": [
      "\u001b[0;31m---------------------------------------------------------------------------\u001b[0m",
      "\u001b[0;31mBadSegmentationParameters\u001b[0m                 Traceback (most recent call last)",
      "\u001b[0;32m<ipython-input-7-af2880c9ff6c>\u001b[0m in \u001b[0;36m<module>\u001b[0;34m\u001b[0m\n\u001b[1;32m      4\u001b[0m     \u001b[0mmodel\u001b[0m \u001b[0;34m=\u001b[0m \u001b[0;34m\"l2\"\u001b[0m\u001b[0;34m\u001b[0m\u001b[0;34m\u001b[0m\u001b[0m\n\u001b[1;32m      5\u001b[0m     \u001b[0malgo\u001b[0m \u001b[0;34m=\u001b[0m \u001b[0mrpt\u001b[0m\u001b[0;34m.\u001b[0m\u001b[0mWindow\u001b[0m\u001b[0;34m(\u001b[0m\u001b[0mwidth\u001b[0m \u001b[0;34m=\u001b[0m \u001b[0;36m20\u001b[0m\u001b[0;34m,\u001b[0m \u001b[0mmodel\u001b[0m\u001b[0;34m=\u001b[0m\u001b[0mmodel\u001b[0m\u001b[0;34m)\u001b[0m\u001b[0;34m.\u001b[0m\u001b[0mfit\u001b[0m\u001b[0;34m(\u001b[0m\u001b[0mnp\u001b[0m\u001b[0;34m.\u001b[0m\u001b[0marray\u001b[0m\u001b[0;34m(\u001b[0m\u001b[0mvec\u001b[0m\u001b[0;34m[\u001b[0m\u001b[0mi\u001b[0m\u001b[0;34m]\u001b[0m\u001b[0;34m)\u001b[0m\u001b[0;34m)\u001b[0m\u001b[0;34m\u001b[0m\u001b[0;34m\u001b[0m\u001b[0m\n\u001b[0;32m----> 6\u001b[0;31m     \u001b[0mmy_bkps\u001b[0m \u001b[0;34m=\u001b[0m \u001b[0malgo\u001b[0m\u001b[0;34m.\u001b[0m\u001b[0mpredict\u001b[0m\u001b[0;34m(\u001b[0m\u001b[0mn_bkps\u001b[0m\u001b[0;34m=\u001b[0m\u001b[0;36m10\u001b[0m\u001b[0;34m)\u001b[0m\u001b[0;34m\u001b[0m\u001b[0;34m\u001b[0m\u001b[0m\n\u001b[0m\u001b[1;32m      7\u001b[0m     \u001b[0mprint\u001b[0m\u001b[0;34m(\u001b[0m\u001b[0mmy_bkps\u001b[0m\u001b[0;34m)\u001b[0m\u001b[0;34m\u001b[0m\u001b[0;34m\u001b[0m\u001b[0m\n\u001b[1;32m      8\u001b[0m     \u001b[0mrpt\u001b[0m\u001b[0;34m.\u001b[0m\u001b[0mshow\u001b[0m\u001b[0;34m.\u001b[0m\u001b[0mdisplay\u001b[0m\u001b[0;34m(\u001b[0m\u001b[0mnp\u001b[0m\u001b[0;34m.\u001b[0m\u001b[0marray\u001b[0m\u001b[0;34m(\u001b[0m\u001b[0mvec\u001b[0m\u001b[0;34m[\u001b[0m\u001b[0mi\u001b[0m\u001b[0;34m]\u001b[0m\u001b[0;34m)\u001b[0m\u001b[0;34m,\u001b[0m \u001b[0mmy_bkps\u001b[0m\u001b[0;34m,\u001b[0m \u001b[0mfigsize\u001b[0m\u001b[0;34m=\u001b[0m\u001b[0;34m(\u001b[0m\u001b[0;36m5\u001b[0m\u001b[0;34m,\u001b[0m \u001b[0;36m3\u001b[0m\u001b[0;34m)\u001b[0m\u001b[0;34m)\u001b[0m\u001b[0;34m\u001b[0m\u001b[0;34m\u001b[0m\u001b[0m\n",
      "\u001b[0;32m~/opt/anaconda3/lib/python3.8/site-packages/ruptures/detection/window.py\u001b[0m in \u001b[0;36mpredict\u001b[0;34m(self, n_bkps, pen, epsilon)\u001b[0m\n\u001b[1;32m    167\u001b[0m             \u001b[0mmin_size\u001b[0m\u001b[0;34m=\u001b[0m\u001b[0mself\u001b[0m\u001b[0;34m.\u001b[0m\u001b[0mmin_size\u001b[0m\u001b[0;34m,\u001b[0m\u001b[0;34m\u001b[0m\u001b[0;34m\u001b[0m\u001b[0m\n\u001b[1;32m    168\u001b[0m         ):\n\u001b[0;32m--> 169\u001b[0;31m             \u001b[0;32mraise\u001b[0m \u001b[0mBadSegmentationParameters\u001b[0m\u001b[0;34m\u001b[0m\u001b[0;34m\u001b[0m\u001b[0m\n\u001b[0m\u001b[1;32m    170\u001b[0m \u001b[0;34m\u001b[0m\u001b[0m\n\u001b[1;32m    171\u001b[0m         \u001b[0mmsg\u001b[0m \u001b[0;34m=\u001b[0m \u001b[0;34m\"Give a parameter.\"\u001b[0m\u001b[0;34m\u001b[0m\u001b[0;34m\u001b[0m\u001b[0m\n",
      "\u001b[0;31mBadSegmentationParameters\u001b[0m: "
     ]
    }
   ],
   "source": [
    "csfont = {'fontname':'Times New Roman'}\n",
    "import ruptures as rpt\n",
    "for i in range(0, len(vec)):\n",
    "    model = \"l2\"  \n",
    "    algo = rpt.Window(width = 20, model=model).fit(np.array(vec[i]))\n",
    "    my_bkps = algo.predict(n_bkps=10)\n",
    "    print(my_bkps)\n",
    "    rpt.show.display(np.array(vec[i]), my_bkps, figsize=(5, 3))\n",
    "    plt.axvline(x = 49, linestyle = '--', color = 'k', label = 'Restoration begins')\n",
    "    #plt.xticks(np.linspace(0,len(vec[0]), len(vec[0])),[date_int])\n",
    "    plt.ylabel('Y axis of Data Type',**csfont, fontsize = 14)\n",
    "    plt.xlabel('#Number of Data Points', **csfont, fontsize = 14)\n",
    "    #plt.xticks([np.array(date_int, dtype = object)])\n",
    "    plt.title('{}' .format(list2[i]), **csfont, fontsize = 20)\n",
    "    plt.legend()\n",
    "    #plt.gcf().autofmt_xdate()\n",
    "\n",
    "    "
   ]
  },
  {
   "cell_type": "code",
   "execution_count": 43,
   "id": "33a3fa87",
   "metadata": {},
   "outputs": [
    {
     "name": "stdout",
     "output_type": "stream",
     "text": [
      "<class 'list'>\n"
     ]
    }
   ],
   "source": [
    "print(type(vec))\n"
   ]
  },
  {
   "cell_type": "code",
   "execution_count": null,
   "id": "2a32ea89",
   "metadata": {},
   "outputs": [],
   "source": []
  }
 ],
 "metadata": {
  "kernelspec": {
   "display_name": "Python 3",
   "language": "python",
   "name": "python3"
  },
  "language_info": {
   "codemirror_mode": {
    "name": "ipython",
    "version": 3
   },
   "file_extension": ".py",
   "mimetype": "text/x-python",
   "name": "python",
   "nbconvert_exporter": "python",
   "pygments_lexer": "ipython3",
   "version": "3.8.8"
  }
 },
 "nbformat": 4,
 "nbformat_minor": 5
}
